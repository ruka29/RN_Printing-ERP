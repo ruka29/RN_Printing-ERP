{
 "cells": [
  {
   "cell_type": "code",
   "execution_count": 1,
   "id": "34fb6b86",
   "metadata": {},
   "outputs": [],
   "source": [
    "import numpy as np\n",
    "if not hasattr(np, 'int'):\n",
    "    np.int = int\n",
    "if not hasattr(np, 'float'):\n",
    "    np.float = float\n",
    "\n",
    "import os\n",
    "import fitz\n",
    "from paddleocr import PaddleOCR\n",
    "import json\n",
    "from uuid import uuid4\n",
    "from PIL import Image"
   ]
  },
  {
   "cell_type": "code",
   "execution_count": null,
   "id": "6e405290",
   "metadata": {},
   "outputs": [
    {
     "name": "stdout",
     "output_type": "stream",
     "text": [
      "[2025/09/02 18:00:53] ppocr DEBUG: Namespace(help='==SUPPRESS==', use_gpu=False, use_xpu=False, use_npu=False, ir_optim=True, use_tensorrt=False, min_subgraph_size=15, precision='fp32', gpu_mem=500, image_dir=None, page_num=0, det_algorithm='DB', det_model_dir='C:\\\\Users\\\\Rukshan/.paddleocr/whl\\\\det\\\\en\\\\en_PP-OCRv3_det_infer', det_limit_side_len=960, det_limit_type='max', det_box_type='quad', det_db_thresh=0.3, det_db_box_thresh=0.6, det_db_unclip_ratio=1.5, max_batch_size=10, use_dilation=False, det_db_score_mode='fast', det_east_score_thresh=0.8, det_east_cover_thresh=0.1, det_east_nms_thresh=0.2, det_sast_score_thresh=0.5, det_sast_nms_thresh=0.2, det_pse_thresh=0, det_pse_box_thresh=0.85, det_pse_min_area=16, det_pse_scale=1, scales=[8, 16, 32], alpha=1.0, beta=1.0, fourier_degree=5, rec_algorithm='SVTR_LCNet', rec_model_dir='C:\\\\Users\\\\Rukshan/.paddleocr/whl\\\\rec\\\\en\\\\en_PP-OCRv3_rec_infer', rec_image_inverse=True, rec_image_shape='3, 48, 320', rec_batch_num=6, max_text_length=25, rec_char_dict_path='d:\\\\Projects\\\\RN_Printing-ERP\\\\backend\\\\extraction_model\\\\.venv\\\\lib\\\\site-packages\\\\paddleocr\\\\ppocr\\\\utils\\\\en_dict.txt', use_space_char=True, vis_font_path='./doc/fonts/simfang.ttf', drop_score=0.5, e2e_algorithm='PGNet', e2e_model_dir=None, e2e_limit_side_len=768, e2e_limit_type='max', e2e_pgnet_score_thresh=0.5, e2e_char_dict_path='./ppocr/utils/ic15_dict.txt', e2e_pgnet_valid_set='totaltext', e2e_pgnet_mode='fast', use_angle_cls=False, cls_model_dir='C:\\\\Users\\\\Rukshan/.paddleocr/whl\\\\cls\\\\ch_ppocr_mobile_v2.0_cls_infer', cls_image_shape='3, 48, 192', label_list=['0', '180'], cls_batch_num=6, cls_thresh=0.9, enable_mkldnn=False, cpu_threads=10, use_pdserving=False, warmup=False, sr_model_dir=None, sr_image_shape='3, 32, 128', sr_batch_num=1, draw_img_save_dir='./inference_results', save_crop_res=False, crop_res_save_dir='./output', use_mp=False, total_process_num=1, process_id=0, benchmark=False, save_log_path='./log_output/', show_log=True, use_onnx=False, output='./output', table_max_len=488, table_algorithm='TableAttn', table_model_dir=None, merge_no_span_structure=True, table_char_dict_path=None, layout_model_dir=None, layout_dict_path=None, layout_score_threshold=0.5, layout_nms_threshold=0.5, kie_algorithm='LayoutXLM', ser_model_dir=None, re_model_dir=None, use_visual_backbone=True, ser_dict_path='../train_data/XFUND/class_list_xfun.txt', ocr_order_method=None, mode='structure', image_orientation=False, layout=True, table=True, ocr=True, recovery=False, use_pdf2docx_api=False, lang='en', det=True, rec=True, type='ocr', ocr_version='PP-OCRv3', structure_version='PP-StructureV2')\n"
     ]
    }
   ],
   "source": [
    "PDF_FOLDER = \"data/pdfs\"\n",
    "IMAGE_OUTPUT_FOLDER = \"data/images\"\n",
    "JSON_OUTPUT_FILE = \"data/ocr_output.json\"\n",
    "\n",
    "os.makedirs(IMAGE_OUTPUT_FOLDER, exist_ok=True)\n"
   ]
  },
  {
   "cell_type": "code",
   "execution_count": 5,
   "id": "b4e4e4a1",
   "metadata": {},
   "outputs": [],
   "source": [
    "def pdf_to_images(pdf_path, output_folder):\n",
    "    \"\"\"Convert each page of a PDF into an image and return list of image paths.\"\"\"\n",
    "    doc = fitz.open(pdf_path)\n",
    "    image_paths = []\n",
    "    \n",
    "    for page_num in range(len(doc)):\n",
    "        page = doc[page_num]\n",
    "        pix = page.get_pixmap(dpi=300)\n",
    "        image_name = f\"{os.path.splitext(os.path.basename(pdf_path))[0]}_page{page_num+1}.png\"\n",
    "        image_path = os.path.join(output_folder, image_name)\n",
    "        pix.save(image_path)\n",
    "        image_paths.append(image_path)\n",
    "    \n",
    "    return image_paths"
   ]
  },
  {
   "cell_type": "code",
   "execution_count": 8,
   "id": "1a83fe05",
   "metadata": {},
   "outputs": [],
   "source": [
    "for pdf_file in os.listdir(PDF_FOLDER):\n",
    "    if not pdf_file.lower().endswith(\".pdf\"):\n",
    "        continue\n",
    "    pdf_path = os.path.join(PDF_FOLDER, pdf_file)\n",
    "    \n",
    "    image_paths = pdf_to_images(pdf_path, IMAGE_OUTPUT_FOLDER)"
   ]
  },
  {
   "cell_type": "code",
   "execution_count": null,
   "id": "18514999",
   "metadata": {},
   "outputs": [],
   "source": [
    "ocr = PaddleOCR(\n",
    "    use_angle_cls=False,\n",
    "    lang='en'\n",
    ")"
   ]
  },
  {
   "cell_type": "code",
   "execution_count": null,
   "id": "03c79020",
   "metadata": {},
   "outputs": [],
   "source": [
    "\n",
    "def ocr_image(image_path):\n",
    "    \"\"\"Run PaddleOCR on an image and return extracted text + bounding boxes.\"\"\"\n",
    "    result = ocr.ocr(image_path, cls=False)\n",
    "    ocr_data = []\n",
    "    \n",
    "    for line in result:\n",
    "        for word_info in line:\n",
    "            bbox, (text, confidence) = word_info  # ✅ fix unpacking\n",
    "            ocr_data.append({\n",
    "                \"bbox\": bbox,\n",
    "                \"text\": text,\n",
    "                \"confidence\": float(confidence)\n",
    "            })\n",
    "    \n",
    "    return ocr_data"
   ]
  },
  {
   "cell_type": "code",
   "execution_count": 4,
   "id": "e9378dd4",
   "metadata": {},
   "outputs": [
    {
     "name": "stdout",
     "output_type": "stream",
     "text": [
      "[2025/09/02 18:01:03] ppocr DEBUG: dt_boxes num : 45, elapse : 0.4938628673553467\n",
      "[2025/09/02 18:01:05] ppocr DEBUG: rec_res num  : 45, elapse : 1.516120433807373\n",
      "OCR extraction completed! JSON saved to data/ocr_output.json\n"
     ]
    }
   ],
   "source": [
    "all_ocr_results = []\n",
    "\n",
    "for pdf_file in os.listdir(PDF_FOLDER):\n",
    "    if not pdf_file.lower().endswith(\".pdf\"):\n",
    "        continue\n",
    "    pdf_path = os.path.join(PDF_FOLDER, pdf_file)\n",
    "    \n",
    "    image_paths = pdf_to_images(pdf_path, IMAGE_OUTPUT_FOLDER)\n",
    "    \n",
    "    for img_path in image_paths:\n",
    "        ocr_result = ocr_image(img_path)\n",
    "        all_ocr_results.append({\n",
    "            \"image_path\": img_path,\n",
    "            \"ocr_data\": ocr_result\n",
    "        })\n",
    "\n",
    "with open(JSON_OUTPUT_FILE, \"w\", encoding=\"utf-8\") as f:\n",
    "    json.dump(all_ocr_results, f, indent=4, ensure_ascii=False)\n",
    "\n",
    "print(f\"OCR extraction completed! JSON saved to {JSON_OUTPUT_FILE}\")"
   ]
  }
 ],
 "metadata": {
  "kernelspec": {
   "display_name": ".venv",
   "language": "python",
   "name": "python3"
  },
  "language_info": {
   "codemirror_mode": {
    "name": "ipython",
    "version": 3
   },
   "file_extension": ".py",
   "mimetype": "text/x-python",
   "name": "python",
   "nbconvert_exporter": "python",
   "pygments_lexer": "ipython3",
   "version": "3.10.8"
  }
 },
 "nbformat": 4,
 "nbformat_minor": 5
}
